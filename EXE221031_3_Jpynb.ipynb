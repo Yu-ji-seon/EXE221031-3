{
  "nbformat": 4,
  "nbformat_minor": 0,
  "metadata": {
    "colab": {
      "provenance": [],
      "authorship_tag": "ABX9TyMpPteKFJAKdBJm914Ty3GB",
      "include_colab_link": true
    },
    "kernelspec": {
      "name": "python3",
      "display_name": "Python 3"
    },
    "language_info": {
      "name": "python"
    }
  },
  "cells": [
    {
      "cell_type": "markdown",
      "metadata": {
        "id": "view-in-github",
        "colab_type": "text"
      },
      "source": [
        "<a href=\"https://colab.research.google.com/github/Yu-ji-seon/EXE221031-3/blob/main/EXE221031_3_Jpynb.ipynb\" target=\"_parent\"><img src=\"https://colab.research.google.com/assets/colab-badge.svg\" alt=\"Open In Colab\"/></a>"
      ]
    },
    {
      "cell_type": "code",
      "execution_count": 8,
      "metadata": {
        "colab": {
          "base_uri": "https://localhost:8080/"
        },
        "id": "sYaP180I0iue",
        "outputId": "2c7a4c5c-ee22-4ff0-b416-0767f95354cc"
      },
      "outputs": [
        {
          "output_type": "stream",
          "name": "stdout",
          "text": [
            "x의 값을 입력하시오.: 5\n",
            "y의 값을 입력하시오.: 4\n",
            "x와 y의 합은:  9\n",
            "x와 y의 차는:  1\n",
            "x와 y의 곱은:  20\n",
            "x와 y의 합은:  4.5\n",
            "x와 y의 큰수는:  5\n",
            "x와 y의 작은수:  4\n"
          ]
        }
      ],
      "source": [
        "x = int(input(\"x의 값을 입력하시오.: \"))\n",
        "y = int(input(\"y의 값을 입력하시오.: \"))\n",
        "\n",
        "print(\"x와 y의 합은: \",x+y)\n",
        "print(\"x와 y의 차는: \",x-y)\n",
        "print(\"x와 y의 곱은: \",x*y)\n",
        "print(\"x와 y의 합은: \",(x+y)/2)\n",
        "print(\"x와 y의 큰수는: \",max(x,y))\n",
        "print(\"x와 y의 작은수: \",min(x,y))"
      ]
    },
    {
      "cell_type": "code",
      "source": [
        "r = float (input(\"r값을 입력하시오: \")) #변수 r의 값을 사용자로부터 받는다. float형으로\n",
        "h = float (input(\"h값을 입력하시오: \")) #변수 h의 값을 사용자로부터 받는다. float형으로\n",
        "vol= 3.141592 * r**2 * h\n",
        "print(\"원기둥의 부피는:\", vol,\"입니다.\")"
      ],
      "metadata": {
        "colab": {
          "base_uri": "https://localhost:8080/"
        },
        "id": "3LyfR51h5FWP",
        "outputId": "5e8bd09f-d026-465c-e7b2-790b22866b57"
      },
      "execution_count": 14,
      "outputs": [
        {
          "output_type": "stream",
          "name": "stdout",
          "text": [
            "r값을 입력하시오: 10\n",
            "h값을 입력하시오: 100\n",
            "원기둥의 부피는: 31415.92 입니다.\n"
          ]
        }
      ]
    },
    {
      "cell_type": "code",
      "source": [
        "number = int(input(\"정수를 입력하시오.:\"))\n",
        "sum = 0      #변수 sum을 초기화 0으로 한다.\n",
        "sum=sum + number % 10\n",
        "number= number // 10\n",
        "sum=sum + number % 10\n",
        "number= number // 10\n",
        "sum=sum + number % 10\n",
        "number= number // 10\n",
        "sum=sum + number % 10\n",
        "number= number // 10\n",
        "print(\"자리수의 합: \", str (sum))\n"
      ],
      "metadata": {
        "colab": {
          "base_uri": "https://localhost:8080/"
        },
        "id": "OFfvbyk86qzO",
        "outputId": "3686a779-ccf7-4898-be1e-51b5e04657ac"
      },
      "execution_count": 20,
      "outputs": [
        {
          "output_type": "stream",
          "name": "stdout",
          "text": [
            "정수를 입력하시오.:12345\n",
            "자리수의 합:  14\n"
          ]
        }
      ]
    },
    {
      "cell_type": "code",
      "source": [
        "x1 = int (input(\"x1의 값: \"))\n",
        "y1 = int (input(\"y1의 값: \"))\n",
        "\n",
        "x2 = int (input(\"x2의 값: \"))\n",
        "y2 = int (input(\"y2의 값: \"))\n",
        "dist = ((x2-x1)**2 + (y2-y1)**2)**0.5\n",
        "print(\"두점 사이의 거리=\",dist, \"입니다\" )"
      ],
      "metadata": {
        "colab": {
          "base_uri": "https://localhost:8080/"
        },
        "id": "NvvpCpaa8IP-",
        "outputId": "74adab18-1638-4f16-a559-4a886edc4c4c"
      },
      "execution_count": 21,
      "outputs": [
        {
          "output_type": "stream",
          "name": "stdout",
          "text": [
            "x1의 값: 0\n",
            "y1의 값: 0\n",
            "x2의 값: 100\n",
            "y2의 값: 100\n",
            "두점 사이의 거리= 141.4213562373095 입니다\n"
          ]
        }
      ]
    },
    {
      "cell_type": "code",
      "source": [
        "import time\n",
        "fsecond=time.time()\n",
        "total_sec= int(fsecond)\n",
        "total_min = total_sec //60\n",
        "minute = total_min % 60\n",
        "total_hour = total_min // 60\n",
        "hour = total_hour % 24\n",
        "\n",
        "print(\"현재시각은 (영국 그리니치 표준시각); \", str(hour) + \"시\" + str(minute)+\"분\")\n"
      ],
      "metadata": {
        "colab": {
          "base_uri": "https://localhost:8080/"
        },
        "id": "yAkJ-JaSH8Q-",
        "outputId": "80c9f04f-08bc-4855-8d42-159f4d8d4139"
      },
      "execution_count": 22,
      "outputs": [
        {
          "output_type": "stream",
          "name": "stdout",
          "text": [
            "현재시각은 (영국 그리니치 표준시각);  3시47분\n"
          ]
        }
      ]
    },
    {
      "cell_type": "code",
      "source": [],
      "metadata": {
        "id": "a3nGepzgLUc-"
      },
      "execution_count": null,
      "outputs": []
    }
  ]
}